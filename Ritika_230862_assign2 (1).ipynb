{
  "nbformat": 4,
  "nbformat_minor": 0,
  "metadata": {
    "colab": {
      "provenance": []
    },
    "kernelspec": {
      "name": "python3",
      "display_name": "Python 3"
    },
    "language_info": {
      "name": "python"
    }
  },
  "cells": [
    {
      "cell_type": "code",
      "source": [
        "# ques 1\n",
        "import numpy as np\n",
        "\n",
        "a = np.array([1, 7, 3, 10, 14, 76, 4])\n",
        "\n",
        "n = len(a)\n",
        "for i in range(n):\n",
        "    for j in range(i + 1, n):\n",
        "        if (a[i] + a[j]) % 7 == 0:\n",
        "            print(f\"Index: ({i}, {j}), Values: ({a[i]}, {a[j]})\")\n"
      ],
      "metadata": {
        "colab": {
          "base_uri": "https://localhost:8080/"
        },
        "id": "5duF0UireQMP",
        "outputId": "9e399a83-8060-426b-a781-88b03ad13926"
      },
      "execution_count": 12,
      "outputs": [
        {
          "output_type": "stream",
          "name": "stdout",
          "text": [
            "Index: (0, 5), Values: (1, 76)\n",
            "Index: (1, 4), Values: (7, 14)\n",
            "Index: (2, 6), Values: (3, 4)\n",
            "Index: (3, 6), Values: (10, 4)\n"
          ]
        }
      ]
    },
    {
      "cell_type": "code",
      "source": [
        "# ques 2\n",
        "import numpy as np\n",
        "\n",
        "A = np.array([[1, 2, 0],\n",
        "              [0, 5, 6],\n",
        "              [7, 0, 9]])\n",
        "\n",
        "B = np.array([[5, 6, 7],\n",
        "              [7, 8, 9],\n",
        "              [1, 2, 3]])\n",
        "\n",
        "A_inv = np.linalg.inv(A)\n",
        "\n",
        "dot_product = np.dot(A_inv, B)\n",
        "\n",
        "elt_product = A_inv * B\n",
        "\n",
        "print(\"Inverse of A (A_inv):\\n\",A_inv)\n",
        "print(\"\\nDot product of A_inv and B:\\n\",dot_product)\n",
        "print(\"\\nElementwise multiplication of A_inv and B:\\n\",elt_product)\n"
      ],
      "metadata": {
        "colab": {
          "base_uri": "https://localhost:8080/"
        },
        "id": "tFXIpU-mSPrg",
        "outputId": "0b53a4e8-f052-4ce8-cdac-c25050e10e15"
      },
      "execution_count": 13,
      "outputs": [
        {
          "output_type": "stream",
          "name": "stdout",
          "text": [
            "Inverse of A (A_inv):\n",
            " [[ 0.34883721 -0.13953488  0.09302326]\n",
            " [ 0.3255814   0.06976744 -0.04651163]\n",
            " [-0.27131783  0.10852713  0.03875969]]\n",
            "\n",
            "Dot product of A_inv and B:\n",
            " [[ 0.86046512  1.1627907   1.46511628]\n",
            " [ 2.06976744  2.41860465  2.76744186]\n",
            " [-0.55813953 -0.68217054 -0.80620155]]\n",
            "\n",
            "Elementwise multiplication of A_inv and B:\n",
            " [[ 1.74418605 -0.8372093   0.65116279]\n",
            " [ 2.27906977  0.55813953 -0.41860465]\n",
            " [-0.27131783  0.21705426  0.11627907]]\n"
          ]
        }
      ]
    },
    {
      "cell_type": "code",
      "source": [
        "# ques 3\n",
        "import numpy as np\n",
        "import pandas as pd\n",
        "\n",
        "data = np.array([\n",
        "    [1, 2, 3, 4, 5],\n",
        "    [1, 8, 2, 10, 11],\n",
        "    [4, 5, 6, 7, 8],\n",
        "    [7, 8, 9, 10, 11],\n",
        "    [7, 18, 19, 10, 11]\n",
        "])\n",
        "\n",
        "df = pd.DataFrame(data, columns=['A', 'B', 'C', 'D', 'E'])\n",
        "\n",
        "df2 = df.sort_values(by='C')\n",
        "\n",
        "print(\"First two rows of df2:\")\n",
        "print(df2.head(2))\n",
        "print(\"\\nLast two rows of df2:\")\n",
        "print(df2.tail(2))\n",
        "\n",
        "df2_values = df2.values\n",
        "print(\"\\ndf2 values as NumPy array:\")\n",
        "print(df2_values)"
      ],
      "metadata": {
        "colab": {
          "base_uri": "https://localhost:8080/"
        },
        "id": "d3jLebJTS-Tt",
        "outputId": "b33207d4-50fc-4230-ec62-3c15eeac86e3"
      },
      "execution_count": 14,
      "outputs": [
        {
          "output_type": "stream",
          "name": "stdout",
          "text": [
            "First two rows of df2:\n",
            "   A  B  C   D   E\n",
            "1  1  8  2  10  11\n",
            "0  1  2  3   4   5\n",
            "\n",
            "Last two rows of df2:\n",
            "   A   B   C   D   E\n",
            "3  7   8   9  10  11\n",
            "4  7  18  19  10  11\n",
            "\n",
            "df2 values as NumPy array:\n",
            "[[ 1  8  2 10 11]\n",
            " [ 1  2  3  4  5]\n",
            " [ 4  5  6  7  8]\n",
            " [ 7  8  9 10 11]\n",
            " [ 7 18 19 10 11]]\n"
          ]
        }
      ]
    },
    {
      "cell_type": "code",
      "source": [
        "# ques 4\n",
        "import numpy as np\n",
        "\n",
        "A = np.array([[1, 2, 0],\n",
        "              [0, 5, 6],\n",
        "              [7, 0, 9]])\n",
        "\n",
        "eigenvalues, eigenvectors = np.linalg.eig(A)\n",
        "\n",
        "spectral_radius = np.max(np.abs(eigenvalues))\n",
        "\n",
        "print(\"Eigenvalues of A:\",eigenvalues)\n",
        "print(\"Spectral radius of A:\",spectral_radius)\n"
      ],
      "metadata": {
        "colab": {
          "base_uri": "https://localhost:8080/"
        },
        "id": "2P5_CLsET3iM",
        "outputId": "602bf992-3f49-4f7a-f620-ce6318cf67a1"
      },
      "execution_count": 15,
      "outputs": [
        {
          "output_type": "stream",
          "name": "stdout",
          "text": [
            "Eigenvalues of A: [10.5740355 +0.j          2.21298225+2.70229602j  2.21298225-2.70229602j]\n",
            "Spectral radius of A: 10.57403549813147\n"
          ]
        }
      ]
    },
    {
      "cell_type": "code",
      "source": [
        "# ques 5\n",
        "import numpy as np\n",
        "\n",
        "B = np.array([[5, 6, 7],\n",
        "              [7, 8, 9],\n",
        "              [1, 2, 3]])\n",
        "\n",
        "U, S, Vt = np.linalg.svd(B, full_matrices=False)\n",
        "\n",
        "Sigma = np.diag(S)\n",
        "\n",
        "print(\"U:\\n\", U)\n",
        "print(\"\\nSigma (diagonal matrix):\\n\", Sigma)\n",
        "print(\"\\nVt:\\n\", Vt)\n",
        "\n",
        "B_recon = U @ Sigma @ Vt\n",
        "\n",
        "acc = np.allclose(B, B_recon, atol=1e-10)\n",
        "print(\"\\n\\nReconstruction accuracy : \", acc)\n",
        "\n",
        "sigma_max = S.max()\n",
        "sigma_min = S.min()\n",
        "condition_number = sigma_max / sigma_min\n",
        "print(\"\\nSpectral condition number (K2(B)):\", condition_number)\n"
      ],
      "metadata": {
        "id": "XvX0EcYBlHPx",
        "colab": {
          "base_uri": "https://localhost:8080/"
        },
        "outputId": "c486d8ad-52e7-4861-a73f-0459ad8d16ed"
      },
      "execution_count": 11,
      "outputs": [
        {
          "output_type": "stream",
          "name": "stdout",
          "text": [
            "U:\n",
            " [[-0.58909693  0.10053691 -0.80178373]\n",
            " [-0.78215124 -0.32019549  0.53452248]\n",
            " [-0.20298829  0.94200169  0.26726124]]\n",
            "\n",
            "Sigma (diagonal matrix):\n",
            " [[1.78028049e+01 0.00000000e+00 0.00000000e+00]\n",
            " [0.00000000e+00 1.02963004e+00 0.00000000e+00]\n",
            " [0.00000000e+00 0.00000000e+00 1.47181129e-15]]\n",
            "\n",
            "Vt:\n",
            " [[-0.48439174 -0.57281806 -0.66124437]\n",
            " [-0.77375576 -0.07219979  0.62935619]\n",
            " [ 0.40824829 -0.81649658  0.40824829]]\n",
            "\n",
            "\n",
            "Reconstruction accuracy :  True\n",
            "\n",
            "Spectral condition number (K2(B)): 1.2095847478372948e+16\n"
          ]
        }
      ]
    }
  ]
}